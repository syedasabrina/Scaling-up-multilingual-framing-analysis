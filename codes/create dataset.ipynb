{
 "cells": [
  {
   "cell_type": "code",
   "execution_count": 5,
   "id": "61dc2bb3",
   "metadata": {},
   "outputs": [],
   "source": [
    "import pandas as pd"
   ]
  },
  {
   "cell_type": "raw",
   "id": "154db48c",
   "metadata": {},
   "source": [
    "df = pd.read_csv('data/student_data_preprocessed/all_stu_en.csv', sep= ',')\n",
    "df50 = df.sample(frac=.5)\n",
    "df50.to_csv('data/student_data_preprocessed/all_stu50_en.csv', index = False)"
   ]
  },
  {
   "cell_type": "raw",
   "id": "33ba8cad",
   "metadata": {},
   "source": [
    "df1 = pd.read_csv('data/student_data_preprocessed/all_stu50_en.csv', sep= ',')\n",
    "df2 = pd.read_csv('data/student_data_preprocessed/mfc_en_train.csv', sep= ',')\n",
    "\n",
    "combined_df = pd.concat([df1, df2], ignore_index=True)\n",
    "shuffled_df = combined_df.sample(frac=1, random_state=42).reset_index(drop=True)\n",
    "shuffled_df\n",
    "\n",
    "shuffled_df.to_csv('data/student_data_preprocessed/mfc_all_stu50_en_train.csv', index = False)"
   ]
  },
  {
   "cell_type": "raw",
   "id": "e28fdcb7",
   "metadata": {},
   "source": [
    "df1 = pd.read_csv('data/student_data_preprocessed/all_stu50_en.csv', sep= ',')\n",
    "df2 = pd.read_csv('data/student_data_preprocessed/mfc10_en_train.csv', sep= ',')\n",
    "\n",
    "combined_df = pd.concat([df1, df2], ignore_index=True)\n",
    "shuffled_df = combined_df.sample(frac=1, random_state=42).reset_index(drop=True)\n",
    "shuffled_df\n",
    "\n",
    "shuffled_df.to_csv('data/student_data_preprocessed/mfc10_all_stu50_en_train.csv', index = False)"
   ]
  }
 ],
 "metadata": {
  "kernelspec": {
   "display_name": "python-reg-2",
   "language": "python",
   "name": "python-reg-2"
  },
  "language_info": {
   "codemirror_mode": {
    "name": "ipython",
    "version": 3
   },
   "file_extension": ".py",
   "mimetype": "text/x-python",
   "name": "python",
   "nbconvert_exporter": "python",
   "pygments_lexer": "ipython3",
   "version": "3.9.9"
  }
 },
 "nbformat": 4,
 "nbformat_minor": 5
}
